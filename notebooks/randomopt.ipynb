{
 "cells": [
  {
   "cell_type": "code",
   "execution_count": null,
   "metadata": {},
   "outputs": [],
   "source": [
    "import pandas as pd\n"
   ]
  },
  {
   "cell_type": "code",
   "execution_count": null,
   "metadata": {},
   "outputs": [],
   "source": [
    "disruptions_df = pd.read_csv(\"../data/disruptions.csv\")\n",
    "tasks_df = pd.read_csv(\"../data/tasks.csv\")\n"
   ]
  },
  {
   "cell_type": "code",
   "execution_count": null,
   "metadata": {},
   "outputs": [],
   "source": [
    "merged_df = pd.merge(disruptions_df, tasks_df, left_on='Task ID', right_on='Task ID', how='inner')\n"
   ]
  },
  {
   "cell_type": "code",
   "execution_count": null,
   "metadata": {},
   "outputs": [],
   "source": [
    "def reroute_tasks(row):\n",
    "    if row['Disruption Type'] == 'Weather Conditions':\n",
    "        row['Location'] = 'Alternate Location for Weather'\n",
    "    elif row['Disruption Type'] == 'Resource Shortage':\n",
    "        row['Location'] = 'Alternate Location for Resources'\n",
    "    elif row['Disruption Type'] == 'Emergency Situation':\n",
    "        row['Location'] = 'Alternate Location for Emergency'\n",
    "    elif row['Disruption Type'] == 'Equipment Failure':\n",
    "        row['Location'] = 'Alternate Location for Equipment'\n",
    "    elif row['Disruption Type'] == 'Crew Absenteeism':\n",
    "        row['Location'] = 'Alternate Location for Crew'\n",
    "    return row"
   ]
  },
  {
   "cell_type": "code",
   "execution_count": null,
   "metadata": {},
   "outputs": [],
   "source": [
    "rerouted_df = merged_df.apply(reroute_tasks, axis=1)\n",
    "rerouted_df.to_csv('rerouted_tasks.csv', index=False)"
   ]
  }
 ],
 "metadata": {
  "kernelspec": {
   "display_name": ".venv",
   "language": "python",
   "name": "python3"
  },
  "language_info": {
   "name": "python",
   "version": "3.12.0"
  }
 },
 "nbformat": 4,
 "nbformat_minor": 2
}
