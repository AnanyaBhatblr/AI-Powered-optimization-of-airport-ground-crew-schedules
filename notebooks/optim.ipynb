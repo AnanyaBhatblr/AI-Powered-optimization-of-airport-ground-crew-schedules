{
 "cells": [
  {
   "cell_type": "code",
   "execution_count": null,
   "metadata": {},
   "outputs": [],
   "source": [
    "import pandas as pd\n",
    "\n",
    "# Load the predictions data\n",
    "predictions_df = pd.read_csv('notebooks/predictions_output.csv')\n",
    "\n",
    "# Load the crew data\n",
    "crew_df = pd.read_csv('data/crew.csv')\n",
    "\n",
    "# Function to allocate crew based on predictions\n",
    "def allocate_crew(predictions, crew):\n",
    "    allocation = []\n",
    "    for _, row in predictions.iterrows():\n",
    "        task_id = row['task_ID']\n",
    "        gate_number = row['Gate_number']\n",
    "        floor_no = row['Floor_No']\n",
    "        shift_no = row['shift_no']\n",
    "        predicted_demand = row['predicted_crew_demand']\n",
    "        \n",
    "        # Filter available crew based on the predicted demand\n",
    "        available_crew = crew[crew['Available'] == 'True']\n",
    "        \n",
    "        # Allocate crew to the task\n",
    "        allocated_crew = available_crew.head(int(predicted_demand))\n",
    "        \n",
    "        # Update crew availability\n",
    "        crew.loc[allocated_crew.index, 'Available'] = 'False'\n",
    "        \n",
    "        # Record the allocation\n",
    "        for _, crew_member in allocated_crew.iterrows():\n",
    "            allocation.append({\n",
    "                'task_ID': task_id,\n",
    "                'Gate_number': gate_number,\n",
    "                'Floor_No': floor_no,\n",
    "                'shift_no': shift_no,\n",
    "                'crew_ID': crew_member['crew_ID']\n",
    "            })\n",
    "    \n",
    "    return pd.DataFrame(allocation)\n",
    "\n",
    "# Allocate crew based on predictions\n",
    "crew_allocation = allocate_crew(predictions_df, crew_df)\n",
    "\n",
    "# Display the crew allocation\n",
    "crew_allocation.head()"
   ]
  }
 ],
 "metadata": {
  "language_info": {
   "name": "python"
  }
 },
 "nbformat": 4,
 "nbformat_minor": 2
}
