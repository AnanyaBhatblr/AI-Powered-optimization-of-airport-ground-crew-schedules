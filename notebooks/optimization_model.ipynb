{
 "cells": [
  {
   "cell_type": "code",
   "execution_count": 5,
   "metadata": {},
   "outputs": [
    {
     "name": "stdout",
     "output_type": "stream",
     "text": [
      "Collecting ortools\n",
      "  Downloading ortools-9.11.4210-cp312-cp312-macosx_11_0_arm64.whl.metadata (3.0 kB)\n",
      "Collecting absl-py>=2.0.0 (from ortools)\n",
      "  Using cached absl_py-2.1.0-py3-none-any.whl.metadata (2.3 kB)\n",
      "Requirement already satisfied: numpy>=1.13.3 in /Users/ananyabhat/Documents/mainel/.venv/lib/python3.12/site-packages (from ortools) (1.26.4)\n",
      "Requirement already satisfied: pandas>=2.0.0 in /Users/ananyabhat/Documents/mainel/.venv/lib/python3.12/site-packages (from ortools) (2.2.3)\n",
      "Collecting protobuf<5.27,>=5.26.1 (from ortools)\n",
      "  Downloading protobuf-5.26.1-cp37-abi3-macosx_10_9_universal2.whl.metadata (592 bytes)\n",
      "Collecting immutabledict>=3.0.0 (from ortools)\n",
      "  Downloading immutabledict-4.2.1-py3-none-any.whl.metadata (3.5 kB)\n",
      "Requirement already satisfied: python-dateutil>=2.8.2 in /Users/ananyabhat/Documents/mainel/.venv/lib/python3.12/site-packages (from pandas>=2.0.0->ortools) (2.9.0.post0)\n",
      "Requirement already satisfied: pytz>=2020.1 in /Users/ananyabhat/Documents/mainel/.venv/lib/python3.12/site-packages (from pandas>=2.0.0->ortools) (2024.2)\n",
      "Requirement already satisfied: tzdata>=2022.7 in /Users/ananyabhat/Documents/mainel/.venv/lib/python3.12/site-packages (from pandas>=2.0.0->ortools) (2024.2)\n",
      "Requirement already satisfied: six>=1.5 in /Users/ananyabhat/Documents/mainel/.venv/lib/python3.12/site-packages (from python-dateutil>=2.8.2->pandas>=2.0.0->ortools) (1.17.0)\n",
      "Downloading ortools-9.11.4210-cp312-cp312-macosx_11_0_arm64.whl (20.7 MB)\n",
      "\u001b[2K   \u001b[90m━━━━━━━━━━━━━━━━━━━━━━━━━━━━━━━━━━━━━━━━\u001b[0m \u001b[32m20.7/20.7 MB\u001b[0m \u001b[31m4.5 MB/s\u001b[0m eta \u001b[36m0:00:00\u001b[0ma \u001b[36m0:00:01\u001b[0m\n",
      "\u001b[?25hUsing cached absl_py-2.1.0-py3-none-any.whl (133 kB)\n",
      "Downloading immutabledict-4.2.1-py3-none-any.whl (4.7 kB)\n",
      "Downloading protobuf-5.26.1-cp37-abi3-macosx_10_9_universal2.whl (404 kB)\n",
      "Installing collected packages: protobuf, immutabledict, absl-py, ortools\n",
      "  Attempting uninstall: protobuf\n",
      "    Found existing installation: protobuf 5.29.3\n",
      "    Uninstalling protobuf-5.29.3:\n",
      "      Successfully uninstalled protobuf-5.29.3\n",
      "Successfully installed absl-py-2.1.0 immutabledict-4.2.1 ortools-9.11.4210 protobuf-5.26.1\n"
     ]
    }
   ],
   "source": [
    "!pip install ortools"
   ]
  },
  {
   "cell_type": "code",
   "execution_count": 14,
   "metadata": {},
   "outputs": [],
   "source": [
    "from ortools.linear_solver import pywraplp\n",
    "import pandas as pd\n"
   ]
  },
  {
   "cell_type": "code",
   "execution_count": 7,
   "metadata": {},
   "outputs": [],
   "source": [
    "tasks = pd.read_csv('../data/tasks.csv')\n",
    "crew = pd.read_csv('../data/crew.csv')\n",
    "\n",
    "# Convert availability to boolean\n",
    "crew['Availability'] = crew['Availability'].map({'True': True, 'False': False})"
   ]
  },
  {
   "cell_type": "code",
   "execution_count": 15,
   "metadata": {},
   "outputs": [],
   "source": [
    "solver = pywraplp.Solver.CreateSolver('SCIP')\n",
    "\n",
    "# Maximum tasks per crew member\n",
    "MAX_TASKS_PER_CREW = 3"
   ]
  },
  {
   "cell_type": "code",
   "execution_count": 16,
   "metadata": {},
   "outputs": [],
   "source": [
    "assignments = {}\n",
    "for _, task in tasks.iterrows():\n",
    "    for _, crew_member in crew.iterrows():\n",
    "        assignments[(task['Task_ID'], crew_member['Crew_ID'])] = solver.BoolVar(\n",
    "            f\"assign_t{task['Task_ID']}_c{crew_member['Crew_ID']}\")"
   ]
  },
  {
   "cell_type": "code",
   "execution_count": 17,
   "metadata": {},
   "outputs": [],
   "source": [
    "# Objective: Minimize total assignments while balancing workload\n",
    "objective = solver.Objective()\n",
    "for (task_id, crew_id), var in assignments.items():\n",
    "    # Get crew availability\n",
    "    crew_available = crew[crew['Crew_ID'] == crew_id]['Availability'].iloc[0]\n",
    "    # Penalize assigning tasks to unavailable crew\n",
    "    coeff = 1000 if not crew_available else 1\n",
    "    objective.SetCoefficient(var, coeff)\n",
    "objective.SetMinimization()"
   ]
  },
  {
   "cell_type": "code",
   "execution_count": 18,
   "metadata": {},
   "outputs": [],
   "source": [
    "# Constraint 1: Each task must be assigned to exactly one crew member\n",
    "for _, task in tasks.iterrows():\n",
    "    solver.Add(\n",
    "        sum(assignments[(task['Task_ID'], crew_member['Crew_ID'])]\n",
    "            for _, crew_member in crew.iterrows()) == 1)\n",
    "\n",
    "# Constraint 2: Limit maximum tasks per crew member\n",
    "for _, crew_member in crew.iterrows():\n",
    "    solver.Add(\n",
    "        sum(assignments[(task['Task_ID'], crew_member['Crew_ID'])]\n",
    "            for _, task in tasks.iterrows()) <= MAX_TASKS_PER_CREW)\n",
    "\n",
    "# Constraint 3: Don't assign tasks to unavailable crew\n",
    "for _, crew_member in crew.iterrows():\n",
    "    if not crew_member['Availability']:\n",
    "        for _, task in tasks.iterrows():\n",
    "            solver.Add(assignments[(task['Task_ID'], crew_member['Crew_ID'])] == 0)"
   ]
  },
  {
   "cell_type": "code",
   "execution_count": 19,
   "metadata": {},
   "outputs": [],
   "source": [
    "status = solver.Solve()"
   ]
  },
  {
   "cell_type": "code",
   "execution_count": 20,
   "metadata": {},
   "outputs": [
    {
     "name": "stdout",
     "output_type": "stream",
     "text": [
      "Optimal solution found!\n"
     ]
    }
   ],
   "source": [
    "if status == pywraplp.Solver.OPTIMAL:\n",
    "    print(\"Optimal solution found!\")\n",
    "    results = []\n",
    "    for (task_id, crew_id), var in assignments.items():\n",
    "        if var.solution_value() > 0:\n",
    "            results.append({\"Task ID\": task_id, \"Crew ID\": crew_id})\n",
    "    results_df = pd.DataFrame(results)\n",
    "    results_df.to_csv('../data/Optimal_Schedule.csv', index=False)\n",
    "else:\n",
    "    print(\"No optimal solution found.\")"
   ]
  }
 ],
 "metadata": {
  "kernelspec": {
   "display_name": ".venv",
   "language": "python",
   "name": "python3"
  },
  "language_info": {
   "codemirror_mode": {
    "name": "ipython",
    "version": 3
   },
   "file_extension": ".py",
   "mimetype": "text/x-python",
   "name": "python",
   "nbconvert_exporter": "python",
   "pygments_lexer": "ipython3",
   "version": "3.12.0"
  }
 },
 "nbformat": 4,
 "nbformat_minor": 2
}
