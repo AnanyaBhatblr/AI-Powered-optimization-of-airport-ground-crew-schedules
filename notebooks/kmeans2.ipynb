{
 "cells": [
  {
   "cell_type": "code",
   "execution_count": 10,
   "metadata": {},
   "outputs": [],
   "source": [
    "import pandas as pd\n",
    "from sklearn.cluster import KMeans\n",
    "from sklearn.preprocessing import StandardScaler"
   ]
  },
  {
   "cell_type": "code",
   "execution_count": 11,
   "metadata": {},
   "outputs": [],
   "source": [
    "input_file = \"../data/task_personnel_summary.csv\"  # Replace with your file name\n",
    "data = pd.read_csv(input_file)"
   ]
  },
  {
   "cell_type": "code",
   "execution_count": 12,
   "metadata": {},
   "outputs": [],
   "source": [
    "features = data[['Floor_No', 'Gate_number', 'Criticality', 'Number_of_Personnel']]\n"
   ]
  },
  {
   "cell_type": "code",
   "execution_count": 13,
   "metadata": {},
   "outputs": [],
   "source": [
    "\n",
    "# Scale the features\n",
    "scaler = StandardScaler()\n",
    "scaled_features = scaler.fit_transform(features)\n"
   ]
  },
  {
   "cell_type": "code",
   "execution_count": 14,
   "metadata": {},
   "outputs": [],
   "source": [
    "\n",
    "# Apply K-Means clustering\n",
    "kmeans = KMeans(n_clusters=3, random_state=42)\n",
    "data['Cluster'] = kmeans.fit_predict(scaled_features)\n"
   ]
  },
  {
   "cell_type": "code",
   "execution_count": 15,
   "metadata": {},
   "outputs": [],
   "source": [
    "\n",
    "# Map clusters to priorities\n",
    "# Sort clusters by their average criticality, assuming higher criticality implies higher priority\n",
    "cluster_priority_map = {\n",
    "    cluster: priority\n",
    "    for cluster, priority in zip(\n",
    "        sorted(data.groupby('Cluster')['Criticality'].mean().items(), key=lambda x: x[1], reverse=True),\n",
    "        ['High', 'Medium', 'Low']\n",
    "    )\n",
    "}\n",
    "data['Priority'] = data['Cluster'].map(cluster_priority_map)\n"
   ]
  },
  {
   "cell_type": "code",
   "execution_count": 16,
   "metadata": {},
   "outputs": [
    {
     "name": "stdout",
     "output_type": "stream",
     "text": [
      "Clustered data with priorities saved to task_priority_assignment.csv\n"
     ]
    }
   ],
   "source": [
    "\n",
    "# Save the clustered data to a new file\n",
    "output_file = \"task_priority_assignment.csv\"\n",
    "data.to_csv(output_file, index=False)\n",
    "\n",
    "print(f\"Clustered data with priorities saved to {output_file}\")\n",
    "#Note: cluster 0 high priority"
   ]
  }
 ],
 "metadata": {
  "kernelspec": {
   "display_name": ".venv",
   "language": "python",
   "name": "python3"
  },
  "language_info": {
   "codemirror_mode": {
    "name": "ipython",
    "version": 3
   },
   "file_extension": ".py",
   "mimetype": "text/x-python",
   "name": "python",
   "nbconvert_exporter": "python",
   "pygments_lexer": "ipython3",
   "version": "3.12.0"
  }
 },
 "nbformat": 4,
 "nbformat_minor": 2
}
